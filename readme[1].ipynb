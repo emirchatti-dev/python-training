{
 "cells": [
  {
   "cell_type": "markdown",
   "id": "bb60c98e",
   "metadata": {},
   "source": [
    "## Read Me\n",
    "\n",
    "Ce document vise à présenter brièvement les travaux ci-joints.\n",
    "\n",
    "Pour appuyer ma candidature, j'ai pris l'initiative d'apprendre les rudiments de Python et leur application dans le domaine du *trading*. Vous pourrez donc trouver ci-joint deux projets :\n",
    "\n",
    "- ***MAStrategyBacktesting.ipynb*** **:** Création d'une classe *UnderlyingAnalysis* d'attributs (ticker, start, end) permettant d'analyser facilement des données sur une période en particulier ; ainsi que d'une méthode *.moving_average_strategy* permettant de *backtester* une stratégie *long bias* à l'aide de moyennes mobiles simples ou exponentielles (position longue quand la jambe courte est supérieure à la longue, débouclage dans le cas contraire).\n",
    "\n",
    "- ***ModèleSARIMAGARCH.ipynb*** (*travail en cours*) **:** Analyse d'une série de données et étude d'un modèle SARIMA-GARCH adéquat. Le projet est encore en cours de développement ; reste à ajouter les ACF et PACF, les prévisions futures adéquates, et l'analyse GARCH.\n",
    "\n",
    "- ***Workbook.ipynb*** **:** Détail du travail de fond au-travers duquel j'ai appris à manier entre autres les différents outils utilisés dans les autres travaux.\n",
    "\n",
    "Une fois le second projet complet, je m'attellerai à coder une simulation de Monte-Carlo pour estimer l'évolution du prix d'une option sur un sous-jacent donné."
   ]
  }
 ],
 "metadata": {
  "kernelspec": {
   "display_name": "base",
   "language": "python",
   "name": "python3"
  },
  "language_info": {
   "name": "python",
   "version": "3.12.7"
  }
 },
 "nbformat": 4,
 "nbformat_minor": 5
}
